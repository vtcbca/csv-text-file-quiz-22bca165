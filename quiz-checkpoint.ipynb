{
 "cells": [
  {
   "cell_type": "code",
   "execution_count": 1,
   "id": "2f7fab94-865b-464b-805d-82dee402b312",
   "metadata": {},
   "outputs": [],
   "source": [
    "import csv"
   ]
  },
  {
   "cell_type": "code",
   "execution_count": 2,
   "id": "b9516a47-f7ad-41d5-b775-a746f54fe3a3",
   "metadata": {},
   "outputs": [],
   "source": [
    "file=open('contact.csv','w',newline='')"
   ]
  },
  {
   "cell_type": "code",
   "execution_count": 3,
   "id": "8b97eeed-a504-485e-8910-308eea393b5e",
   "metadata": {},
   "outputs": [],
   "source": [
    "w=csv.writer(file)"
   ]
  },
  {
   "cell_type": "code",
   "execution_count": 4,
   "id": "96a6f1f0-2f4d-4422-865e-6106d5e78fc3",
   "metadata": {},
   "outputs": [],
   "source": [
    "header=['Name','Contact']"
   ]
  },
  {
   "cell_type": "code",
   "execution_count": 5,
   "id": "2a70e31a-27d8-4b28-88d4-5597b8aa7315",
   "metadata": {},
   "outputs": [
    {
     "data": {
      "text/plain": [
       "14"
      ]
     },
     "execution_count": 5,
     "metadata": {},
     "output_type": "execute_result"
    }
   ],
   "source": [
    "w.writerow(header)"
   ]
  },
  {
   "cell_type": "code",
   "execution_count": 6,
   "id": "19c6279d-d430-4688-88dc-e182545eb280",
   "metadata": {},
   "outputs": [
    {
     "name": "stdin",
     "output_type": "stream",
     "text": [
      "Enter person name: om\n",
      "Enter person contact number: 7485968574\n",
      "Enter person name: sai\n",
      "Enter person contact number: 7845128956\n",
      "Enter person name: ram\n",
      "Enter person contact number: 9674856352\n",
      "Enter person name: anil\n",
      "Enter person contact number: 8956237854\n",
      "Enter person name: sunil\n",
      "Enter person contact number: 8273648125\n"
     ]
    }
   ],
   "source": [
    "List=[]\n",
    "for i in range(5):\n",
    "    name=input(\"Enter person name:\")\n",
    "    contact=int(input(\"Enter person contact number:\"))\n",
    "    l=[name,contact]\n",
    "    List.append(l)"
   ]
  },
  {
   "cell_type": "code",
   "execution_count": 8,
   "id": "a64aefc4-2bc4-4867-8a9d-2434dffcf5d1",
   "metadata": {},
   "outputs": [],
   "source": [
    "w.writerows(List)"
   ]
  },
  {
   "cell_type": "code",
   "execution_count": 9,
   "id": "cd642e2c-8ace-4bb2-922a-9c8a5748f67f",
   "metadata": {},
   "outputs": [],
   "source": [
    "file.close()"
   ]
  },
  {
   "cell_type": "markdown",
   "id": "3a1f696e-5526-433b-b36d-6dd66a0f6aee",
   "metadata": {},
   "source": [
    "###  Search perticular contact by entering person name"
   ]
  },
  {
   "cell_type": "code",
   "execution_count": 20,
   "id": "4127bc00-d765-4a74-ba93-2e085fa122be",
   "metadata": {},
   "outputs": [],
   "source": [
    "file=open('contact.csv','r',newline='')"
   ]
  },
  {
   "cell_type": "code",
   "execution_count": 21,
   "id": "aacc9260-fd18-4f6c-9b50-234473cf1fe9",
   "metadata": {},
   "outputs": [],
   "source": [
    "read=csv.reader(file)"
   ]
  },
  {
   "cell_type": "code",
   "execution_count": 22,
   "id": "b78ea394-5246-4865-93e2-93b9cb975c20",
   "metadata": {},
   "outputs": [
    {
     "name": "stdin",
     "output_type": "stream",
     "text": [
      "Enter a person name that you want search contact number: anil\n"
     ]
    },
    {
     "name": "stdout",
     "output_type": "stream",
     "text": [
      "\n",
      "Name:anil\n",
      "contact:8956237854\n"
     ]
    }
   ],
   "source": [
    "name = input(\"Enter a person name that you want search contact number:\")\n",
    "for r in read:\n",
    "    if r[0]==name:\n",
    "        print(\"\\nName:{}\".format(r[0]))\n",
    "        print(\"contact:{}\".format(r[1]))"
   ]
  },
  {
   "cell_type": "code",
   "execution_count": 23,
   "id": "1a048977-3498-4fe1-81b4-8c28983b181e",
   "metadata": {},
   "outputs": [],
   "source": [
    "file.close()"
   ]
  }
 ],
 "metadata": {
  "kernelspec": {
   "display_name": "Python 3 (ipykernel)",
   "language": "python",
   "name": "python3"
  },
  "language_info": {
   "codemirror_mode": {
    "name": "ipython",
    "version": 3
   },
   "file_extension": ".py",
   "mimetype": "text/x-python",
   "name": "python",
   "nbconvert_exporter": "python",
   "pygments_lexer": "ipython3",
   "version": "3.9.6"
  }
 },
 "nbformat": 4,
 "nbformat_minor": 5
}
